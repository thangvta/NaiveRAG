{
 "cells": [
  {
   "attachments": {},
   "cell_type": "markdown",
   "metadata": {},
   "source": [
    "# Corrective RAG Pack\n",
    "\n",
    "This notebook walks through using the `CorrectiveRAGPack` based on the paper [Corrective Retrieval Augmented Generation](https://arxiv.org/abs/2401.15884).\n",
    "\n",
    "A brief understanding of the paper:\n",
    "\n",
    "\n",
    "Corrective Retrieval Augmented Generation (CRAG) is a method designed to enhance the robustness of language model generation by evaluating and augmenting the relevance of retrieved documents through a an evaluator and large-scale web searches, ensuring more accurate and reliable information is used in generation.\n",
    "\n",
    "We use `GPT-4` as a relevancy evaluator and `Tavily AI` for web searches. So, we recommend getting `OPENAI_API_KEY` and `tavily_ai_api_key` before proceeding further."
   ]
  },
  {
   "cell_type": "markdown",
   "metadata": {},
   "source": [
    "## Setup"
   ]
  },
  {
   "cell_type": "code",
   "execution_count": 1,
   "metadata": {},
   "outputs": [
    {
     "name": "stdout",
     "output_type": "stream",
     "text": [
      "Requirement already satisfied: llama-index-llms-openai in c:\\users\\thangta1\\anaconda3\\envs\\venv\\lib\\site-packages (0.1.6)\n",
      "Collecting llama-index-tools-tavily-research\n",
      "  Downloading llama_index_tools_tavily_research-0.1.3-py3-none-any.whl.metadata (3.1 kB)\n",
      "Requirement already satisfied: llama-index-embeddings-openai in c:\\users\\thangta1\\anaconda3\\envs\\venv\\lib\\site-packages (0.1.6)\n",
      "Requirement already satisfied: llama-index-core<0.11.0,>=0.10.1 in c:\\users\\thangta1\\anaconda3\\envs\\venv\\lib\\site-packages (from llama-index-llms-openai) (0.10.12)\n",
      "Requirement already satisfied: tavily-python>=0.2.4 in c:\\users\\thangta1\\anaconda3\\envs\\venv\\lib\\site-packages (from llama-index-tools-tavily-research) (0.3.1)\n",
      "Requirement already satisfied: PyYAML>=6.0.1 in c:\\users\\thangta1\\anaconda3\\envs\\venv\\lib\\site-packages (from llama-index-core<0.11.0,>=0.10.1->llama-index-llms-openai) (6.0.1)\n",
      "Requirement already satisfied: SQLAlchemy>=1.4.49 in c:\\users\\thangta1\\anaconda3\\envs\\venv\\lib\\site-packages (from SQLAlchemy[asyncio]>=1.4.49->llama-index-core<0.11.0,>=0.10.1->llama-index-llms-openai) (2.0.27)\n",
      "Requirement already satisfied: aiohttp<4.0.0,>=3.8.6 in c:\\users\\thangta1\\anaconda3\\envs\\venv\\lib\\site-packages (from llama-index-core<0.11.0,>=0.10.1->llama-index-llms-openai) (3.9.3)\n",
      "Requirement already satisfied: dataclasses-json in c:\\users\\thangta1\\anaconda3\\envs\\venv\\lib\\site-packages (from llama-index-core<0.11.0,>=0.10.1->llama-index-llms-openai) (0.6.4)\n",
      "Requirement already satisfied: deprecated>=1.2.9.3 in c:\\users\\thangta1\\anaconda3\\envs\\venv\\lib\\site-packages (from llama-index-core<0.11.0,>=0.10.1->llama-index-llms-openai) (1.2.14)\n",
      "Requirement already satisfied: dirtyjson<2.0.0,>=1.0.8 in c:\\users\\thangta1\\anaconda3\\envs\\venv\\lib\\site-packages (from llama-index-core<0.11.0,>=0.10.1->llama-index-llms-openai) (1.0.8)\n",
      "Requirement already satisfied: fsspec>=2023.5.0 in c:\\users\\thangta1\\anaconda3\\envs\\venv\\lib\\site-packages (from llama-index-core<0.11.0,>=0.10.1->llama-index-llms-openai) (2024.2.0)\n",
      "Requirement already satisfied: httpx in c:\\users\\thangta1\\anaconda3\\envs\\venv\\lib\\site-packages (from llama-index-core<0.11.0,>=0.10.1->llama-index-llms-openai) (0.27.0)\n",
      "Requirement already satisfied: llamaindex-py-client<0.2.0,>=0.1.13 in c:\\users\\thangta1\\anaconda3\\envs\\venv\\lib\\site-packages (from llama-index-core<0.11.0,>=0.10.1->llama-index-llms-openai) (0.1.13)\n",
      "Requirement already satisfied: nest-asyncio<2.0.0,>=1.5.8 in c:\\users\\thangta1\\anaconda3\\envs\\venv\\lib\\site-packages (from llama-index-core<0.11.0,>=0.10.1->llama-index-llms-openai) (1.6.0)\n",
      "Requirement already satisfied: networkx>=3.0 in c:\\users\\thangta1\\anaconda3\\envs\\venv\\lib\\site-packages (from llama-index-core<0.11.0,>=0.10.1->llama-index-llms-openai) (3.2.1)\n",
      "Requirement already satisfied: nltk<4.0.0,>=3.8.1 in c:\\users\\thangta1\\anaconda3\\envs\\venv\\lib\\site-packages (from llama-index-core<0.11.0,>=0.10.1->llama-index-llms-openai) (3.8.1)\n",
      "Requirement already satisfied: numpy in c:\\users\\thangta1\\anaconda3\\envs\\venv\\lib\\site-packages (from llama-index-core<0.11.0,>=0.10.1->llama-index-llms-openai) (1.26.4)\n",
      "Requirement already satisfied: openai>=1.1.0 in c:\\users\\thangta1\\anaconda3\\envs\\venv\\lib\\site-packages (from llama-index-core<0.11.0,>=0.10.1->llama-index-llms-openai) (1.12.0)\n",
      "Requirement already satisfied: pandas in c:\\users\\thangta1\\anaconda3\\envs\\venv\\lib\\site-packages (from llama-index-core<0.11.0,>=0.10.1->llama-index-llms-openai) (2.2.1)\n",
      "Requirement already satisfied: pillow>=9.0.0 in c:\\users\\thangta1\\anaconda3\\envs\\venv\\lib\\site-packages (from llama-index-core<0.11.0,>=0.10.1->llama-index-llms-openai) (10.2.0)\n",
      "Requirement already satisfied: requests>=2.31.0 in c:\\users\\thangta1\\anaconda3\\envs\\venv\\lib\\site-packages (from llama-index-core<0.11.0,>=0.10.1->llama-index-llms-openai) (2.31.0)\n",
      "Requirement already satisfied: tenacity<9.0.0,>=8.2.0 in c:\\users\\thangta1\\anaconda3\\envs\\venv\\lib\\site-packages (from llama-index-core<0.11.0,>=0.10.1->llama-index-llms-openai) (8.2.3)\n",
      "Requirement already satisfied: tiktoken>=0.3.3 in c:\\users\\thangta1\\anaconda3\\envs\\venv\\lib\\site-packages (from llama-index-core<0.11.0,>=0.10.1->llama-index-llms-openai) (0.5.2)\n",
      "Requirement already satisfied: tqdm<5.0.0,>=4.66.1 in c:\\users\\thangta1\\anaconda3\\envs\\venv\\lib\\site-packages (from llama-index-core<0.11.0,>=0.10.1->llama-index-llms-openai) (4.66.2)\n",
      "Requirement already satisfied: typing-extensions>=4.5.0 in c:\\users\\thangta1\\anaconda3\\envs\\venv\\lib\\site-packages (from llama-index-core<0.11.0,>=0.10.1->llama-index-llms-openai) (4.10.0)\n",
      "Requirement already satisfied: typing-inspect>=0.8.0 in c:\\users\\thangta1\\anaconda3\\envs\\venv\\lib\\site-packages (from llama-index-core<0.11.0,>=0.10.1->llama-index-llms-openai) (0.9.0)\n",
      "Requirement already satisfied: regex>=2022.1.18 in c:\\users\\thangta1\\anaconda3\\envs\\venv\\lib\\site-packages (from tiktoken>=0.3.3->llama-index-core<0.11.0,>=0.10.1->llama-index-llms-openai) (2023.12.25)\n",
      "Requirement already satisfied: aiosignal>=1.1.2 in c:\\users\\thangta1\\anaconda3\\envs\\venv\\lib\\site-packages (from aiohttp<4.0.0,>=3.8.6->llama-index-core<0.11.0,>=0.10.1->llama-index-llms-openai) (1.3.1)\n",
      "Requirement already satisfied: attrs>=17.3.0 in c:\\users\\thangta1\\anaconda3\\envs\\venv\\lib\\site-packages (from aiohttp<4.0.0,>=3.8.6->llama-index-core<0.11.0,>=0.10.1->llama-index-llms-openai) (23.2.0)\n",
      "Requirement already satisfied: frozenlist>=1.1.1 in c:\\users\\thangta1\\anaconda3\\envs\\venv\\lib\\site-packages (from aiohttp<4.0.0,>=3.8.6->llama-index-core<0.11.0,>=0.10.1->llama-index-llms-openai) (1.4.1)\n",
      "Requirement already satisfied: multidict<7.0,>=4.5 in c:\\users\\thangta1\\anaconda3\\envs\\venv\\lib\\site-packages (from aiohttp<4.0.0,>=3.8.6->llama-index-core<0.11.0,>=0.10.1->llama-index-llms-openai) (6.0.5)\n",
      "Requirement already satisfied: yarl<2.0,>=1.0 in c:\\users\\thangta1\\anaconda3\\envs\\venv\\lib\\site-packages (from aiohttp<4.0.0,>=3.8.6->llama-index-core<0.11.0,>=0.10.1->llama-index-llms-openai) (1.9.4)\n",
      "Requirement already satisfied: async-timeout<5.0,>=4.0 in c:\\users\\thangta1\\anaconda3\\envs\\venv\\lib\\site-packages (from aiohttp<4.0.0,>=3.8.6->llama-index-core<0.11.0,>=0.10.1->llama-index-llms-openai) (4.0.3)\n",
      "Requirement already satisfied: wrapt<2,>=1.10 in c:\\users\\thangta1\\anaconda3\\envs\\venv\\lib\\site-packages (from deprecated>=1.2.9.3->llama-index-core<0.11.0,>=0.10.1->llama-index-llms-openai) (1.16.0)\n",
      "Requirement already satisfied: pydantic>=1.10 in c:\\users\\thangta1\\anaconda3\\envs\\venv\\lib\\site-packages (from llamaindex-py-client<0.2.0,>=0.1.13->llama-index-core<0.11.0,>=0.10.1->llama-index-llms-openai) (2.6.2)\n",
      "Requirement already satisfied: anyio in c:\\users\\thangta1\\anaconda3\\envs\\venv\\lib\\site-packages (from httpx->llama-index-core<0.11.0,>=0.10.1->llama-index-llms-openai) (4.3.0)\n",
      "Requirement already satisfied: certifi in c:\\users\\thangta1\\anaconda3\\envs\\venv\\lib\\site-packages (from httpx->llama-index-core<0.11.0,>=0.10.1->llama-index-llms-openai) (2024.2.2)\n",
      "Requirement already satisfied: httpcore==1.* in c:\\users\\thangta1\\anaconda3\\envs\\venv\\lib\\site-packages (from httpx->llama-index-core<0.11.0,>=0.10.1->llama-index-llms-openai) (1.0.4)\n",
      "Requirement already satisfied: idna in c:\\users\\thangta1\\anaconda3\\envs\\venv\\lib\\site-packages (from httpx->llama-index-core<0.11.0,>=0.10.1->llama-index-llms-openai) (3.6)\n",
      "Requirement already satisfied: sniffio in c:\\users\\thangta1\\anaconda3\\envs\\venv\\lib\\site-packages (from httpx->llama-index-core<0.11.0,>=0.10.1->llama-index-llms-openai) (1.3.1)\n",
      "Requirement already satisfied: h11<0.15,>=0.13 in c:\\users\\thangta1\\anaconda3\\envs\\venv\\lib\\site-packages (from httpcore==1.*->httpx->llama-index-core<0.11.0,>=0.10.1->llama-index-llms-openai) (0.14.0)\n",
      "Requirement already satisfied: click in c:\\users\\thangta1\\anaconda3\\envs\\venv\\lib\\site-packages (from nltk<4.0.0,>=3.8.1->llama-index-core<0.11.0,>=0.10.1->llama-index-llms-openai) (8.1.7)\n",
      "Requirement already satisfied: joblib in c:\\users\\thangta1\\anaconda3\\envs\\venv\\lib\\site-packages (from nltk<4.0.0,>=3.8.1->llama-index-core<0.11.0,>=0.10.1->llama-index-llms-openai) (1.3.2)\n",
      "Requirement already satisfied: distro<2,>=1.7.0 in c:\\users\\thangta1\\anaconda3\\envs\\venv\\lib\\site-packages (from openai>=1.1.0->llama-index-core<0.11.0,>=0.10.1->llama-index-llms-openai) (1.9.0)\n",
      "Requirement already satisfied: charset-normalizer<4,>=2 in c:\\users\\thangta1\\anaconda3\\envs\\venv\\lib\\site-packages (from requests>=2.31.0->llama-index-core<0.11.0,>=0.10.1->llama-index-llms-openai) (3.3.2)\n",
      "Requirement already satisfied: urllib3<3,>=1.21.1 in c:\\users\\thangta1\\anaconda3\\envs\\venv\\lib\\site-packages (from requests>=2.31.0->llama-index-core<0.11.0,>=0.10.1->llama-index-llms-openai) (2.2.1)\n",
      "Requirement already satisfied: greenlet!=0.4.17 in c:\\users\\thangta1\\anaconda3\\envs\\venv\\lib\\site-packages (from SQLAlchemy>=1.4.49->SQLAlchemy[asyncio]>=1.4.49->llama-index-core<0.11.0,>=0.10.1->llama-index-llms-openai) (3.0.3)\n",
      "Requirement already satisfied: colorama in c:\\users\\thangta1\\anaconda3\\envs\\venv\\lib\\site-packages (from tqdm<5.0.0,>=4.66.1->llama-index-core<0.11.0,>=0.10.1->llama-index-llms-openai) (0.4.6)\n",
      "Requirement already satisfied: mypy-extensions>=0.3.0 in c:\\users\\thangta1\\anaconda3\\envs\\venv\\lib\\site-packages (from typing-inspect>=0.8.0->llama-index-core<0.11.0,>=0.10.1->llama-index-llms-openai) (1.0.0)\n",
      "Requirement already satisfied: marshmallow<4.0.0,>=3.18.0 in c:\\users\\thangta1\\anaconda3\\envs\\venv\\lib\\site-packages (from dataclasses-json->llama-index-core<0.11.0,>=0.10.1->llama-index-llms-openai) (3.20.2)\n",
      "Requirement already satisfied: python-dateutil>=2.8.2 in c:\\users\\thangta1\\anaconda3\\envs\\venv\\lib\\site-packages (from pandas->llama-index-core<0.11.0,>=0.10.1->llama-index-llms-openai) (2.8.2)\n",
      "Requirement already satisfied: pytz>=2020.1 in c:\\users\\thangta1\\anaconda3\\envs\\venv\\lib\\site-packages (from pandas->llama-index-core<0.11.0,>=0.10.1->llama-index-llms-openai) (2024.1)\n",
      "Requirement already satisfied: tzdata>=2022.7 in c:\\users\\thangta1\\anaconda3\\envs\\venv\\lib\\site-packages (from pandas->llama-index-core<0.11.0,>=0.10.1->llama-index-llms-openai) (2024.1)\n",
      "Requirement already satisfied: exceptiongroup>=1.0.2 in c:\\users\\thangta1\\anaconda3\\envs\\venv\\lib\\site-packages (from anyio->httpx->llama-index-core<0.11.0,>=0.10.1->llama-index-llms-openai) (1.2.0)\n",
      "Requirement already satisfied: packaging>=17.0 in c:\\users\\thangta1\\anaconda3\\envs\\venv\\lib\\site-packages (from marshmallow<4.0.0,>=3.18.0->dataclasses-json->llama-index-core<0.11.0,>=0.10.1->llama-index-llms-openai) (23.2)\n",
      "Requirement already satisfied: annotated-types>=0.4.0 in c:\\users\\thangta1\\anaconda3\\envs\\venv\\lib\\site-packages (from pydantic>=1.10->llamaindex-py-client<0.2.0,>=0.1.13->llama-index-core<0.11.0,>=0.10.1->llama-index-llms-openai) (0.6.0)\n",
      "Requirement already satisfied: pydantic-core==2.16.3 in c:\\users\\thangta1\\anaconda3\\envs\\venv\\lib\\site-packages (from pydantic>=1.10->llamaindex-py-client<0.2.0,>=0.1.13->llama-index-core<0.11.0,>=0.10.1->llama-index-llms-openai) (2.16.3)\n",
      "Requirement already satisfied: six>=1.5 in c:\\users\\thangta1\\anaconda3\\envs\\venv\\lib\\site-packages (from python-dateutil>=2.8.2->pandas->llama-index-core<0.11.0,>=0.10.1->llama-index-llms-openai) (1.16.0)\n",
      "Downloading llama_index_tools_tavily_research-0.1.3-py3-none-any.whl (3.3 kB)\n",
      "Installing collected packages: llama-index-tools-tavily-research\n",
      "Successfully installed llama-index-tools-tavily-research-0.1.3\n",
      "Note: you may need to restart the kernel to use updated packages.\n",
      "Requirement already satisfied: llama-index-packs-corrective-rag in c:\\users\\thangta1\\anaconda3\\envs\\venv\\lib\\site-packages (0.1.1)\n",
      "Requirement already satisfied: llama-index-core<0.11.0,>=0.10.0 in c:\\users\\thangta1\\anaconda3\\envs\\venv\\lib\\site-packages (from llama-index-packs-corrective-rag) (0.10.12)\n",
      "Requirement already satisfied: tavily-python<0.4.0,>=0.3.1 in c:\\users\\thangta1\\anaconda3\\envs\\venv\\lib\\site-packages (from llama-index-packs-corrective-rag) (0.3.1)\n",
      "Requirement already satisfied: PyYAML>=6.0.1 in c:\\users\\thangta1\\anaconda3\\envs\\venv\\lib\\site-packages (from llama-index-core<0.11.0,>=0.10.0->llama-index-packs-corrective-rag) (6.0.1)\n",
      "Requirement already satisfied: SQLAlchemy>=1.4.49 in c:\\users\\thangta1\\anaconda3\\envs\\venv\\lib\\site-packages (from SQLAlchemy[asyncio]>=1.4.49->llama-index-core<0.11.0,>=0.10.0->llama-index-packs-corrective-rag) (2.0.27)\n",
      "Requirement already satisfied: aiohttp<4.0.0,>=3.8.6 in c:\\users\\thangta1\\anaconda3\\envs\\venv\\lib\\site-packages (from llama-index-core<0.11.0,>=0.10.0->llama-index-packs-corrective-rag) (3.9.3)\n",
      "Requirement already satisfied: dataclasses-json in c:\\users\\thangta1\\anaconda3\\envs\\venv\\lib\\site-packages (from llama-index-core<0.11.0,>=0.10.0->llama-index-packs-corrective-rag) (0.6.4)\n",
      "Requirement already satisfied: deprecated>=1.2.9.3 in c:\\users\\thangta1\\anaconda3\\envs\\venv\\lib\\site-packages (from llama-index-core<0.11.0,>=0.10.0->llama-index-packs-corrective-rag) (1.2.14)\n",
      "Requirement already satisfied: dirtyjson<2.0.0,>=1.0.8 in c:\\users\\thangta1\\anaconda3\\envs\\venv\\lib\\site-packages (from llama-index-core<0.11.0,>=0.10.0->llama-index-packs-corrective-rag) (1.0.8)\n",
      "Requirement already satisfied: fsspec>=2023.5.0 in c:\\users\\thangta1\\anaconda3\\envs\\venv\\lib\\site-packages (from llama-index-core<0.11.0,>=0.10.0->llama-index-packs-corrective-rag) (2024.2.0)\n",
      "Requirement already satisfied: httpx in c:\\users\\thangta1\\anaconda3\\envs\\venv\\lib\\site-packages (from llama-index-core<0.11.0,>=0.10.0->llama-index-packs-corrective-rag) (0.27.0)\n",
      "Requirement already satisfied: llamaindex-py-client<0.2.0,>=0.1.13 in c:\\users\\thangta1\\anaconda3\\envs\\venv\\lib\\site-packages (from llama-index-core<0.11.0,>=0.10.0->llama-index-packs-corrective-rag) (0.1.13)\n",
      "Requirement already satisfied: nest-asyncio<2.0.0,>=1.5.8 in c:\\users\\thangta1\\anaconda3\\envs\\venv\\lib\\site-packages (from llama-index-core<0.11.0,>=0.10.0->llama-index-packs-corrective-rag) (1.6.0)\n",
      "Requirement already satisfied: networkx>=3.0 in c:\\users\\thangta1\\anaconda3\\envs\\venv\\lib\\site-packages (from llama-index-core<0.11.0,>=0.10.0->llama-index-packs-corrective-rag) (3.2.1)\n",
      "Requirement already satisfied: nltk<4.0.0,>=3.8.1 in c:\\users\\thangta1\\anaconda3\\envs\\venv\\lib\\site-packages (from llama-index-core<0.11.0,>=0.10.0->llama-index-packs-corrective-rag) (3.8.1)\n",
      "Requirement already satisfied: numpy in c:\\users\\thangta1\\anaconda3\\envs\\venv\\lib\\site-packages (from llama-index-core<0.11.0,>=0.10.0->llama-index-packs-corrective-rag) (1.26.4)\n",
      "Requirement already satisfied: openai>=1.1.0 in c:\\users\\thangta1\\anaconda3\\envs\\venv\\lib\\site-packages (from llama-index-core<0.11.0,>=0.10.0->llama-index-packs-corrective-rag) (1.12.0)\n",
      "Requirement already satisfied: pandas in c:\\users\\thangta1\\anaconda3\\envs\\venv\\lib\\site-packages (from llama-index-core<0.11.0,>=0.10.0->llama-index-packs-corrective-rag) (2.2.1)\n",
      "Requirement already satisfied: pillow>=9.0.0 in c:\\users\\thangta1\\anaconda3\\envs\\venv\\lib\\site-packages (from llama-index-core<0.11.0,>=0.10.0->llama-index-packs-corrective-rag) (10.2.0)\n",
      "Requirement already satisfied: requests>=2.31.0 in c:\\users\\thangta1\\anaconda3\\envs\\venv\\lib\\site-packages (from llama-index-core<0.11.0,>=0.10.0->llama-index-packs-corrective-rag) (2.31.0)\n",
      "Requirement already satisfied: tenacity<9.0.0,>=8.2.0 in c:\\users\\thangta1\\anaconda3\\envs\\venv\\lib\\site-packages (from llama-index-core<0.11.0,>=0.10.0->llama-index-packs-corrective-rag) (8.2.3)\n",
      "Requirement already satisfied: tiktoken>=0.3.3 in c:\\users\\thangta1\\anaconda3\\envs\\venv\\lib\\site-packages (from llama-index-core<0.11.0,>=0.10.0->llama-index-packs-corrective-rag) (0.5.2)\n",
      "Requirement already satisfied: tqdm<5.0.0,>=4.66.1 in c:\\users\\thangta1\\anaconda3\\envs\\venv\\lib\\site-packages (from llama-index-core<0.11.0,>=0.10.0->llama-index-packs-corrective-rag) (4.66.2)\n",
      "Requirement already satisfied: typing-extensions>=4.5.0 in c:\\users\\thangta1\\anaconda3\\envs\\venv\\lib\\site-packages (from llama-index-core<0.11.0,>=0.10.0->llama-index-packs-corrective-rag) (4.10.0)\n",
      "Requirement already satisfied: typing-inspect>=0.8.0 in c:\\users\\thangta1\\anaconda3\\envs\\venv\\lib\\site-packages (from llama-index-core<0.11.0,>=0.10.0->llama-index-packs-corrective-rag) (0.9.0)\n",
      "Requirement already satisfied: regex>=2022.1.18 in c:\\users\\thangta1\\anaconda3\\envs\\venv\\lib\\site-packages (from tiktoken>=0.3.3->llama-index-core<0.11.0,>=0.10.0->llama-index-packs-corrective-rag) (2023.12.25)\n",
      "Requirement already satisfied: aiosignal>=1.1.2 in c:\\users\\thangta1\\anaconda3\\envs\\venv\\lib\\site-packages (from aiohttp<4.0.0,>=3.8.6->llama-index-core<0.11.0,>=0.10.0->llama-index-packs-corrective-rag) (1.3.1)\n",
      "Requirement already satisfied: attrs>=17.3.0 in c:\\users\\thangta1\\anaconda3\\envs\\venv\\lib\\site-packages (from aiohttp<4.0.0,>=3.8.6->llama-index-core<0.11.0,>=0.10.0->llama-index-packs-corrective-rag) (23.2.0)\n",
      "Requirement already satisfied: frozenlist>=1.1.1 in c:\\users\\thangta1\\anaconda3\\envs\\venv\\lib\\site-packages (from aiohttp<4.0.0,>=3.8.6->llama-index-core<0.11.0,>=0.10.0->llama-index-packs-corrective-rag) (1.4.1)\n",
      "Requirement already satisfied: multidict<7.0,>=4.5 in c:\\users\\thangta1\\anaconda3\\envs\\venv\\lib\\site-packages (from aiohttp<4.0.0,>=3.8.6->llama-index-core<0.11.0,>=0.10.0->llama-index-packs-corrective-rag) (6.0.5)\n",
      "Requirement already satisfied: yarl<2.0,>=1.0 in c:\\users\\thangta1\\anaconda3\\envs\\venv\\lib\\site-packages (from aiohttp<4.0.0,>=3.8.6->llama-index-core<0.11.0,>=0.10.0->llama-index-packs-corrective-rag) (1.9.4)\n",
      "Requirement already satisfied: async-timeout<5.0,>=4.0 in c:\\users\\thangta1\\anaconda3\\envs\\venv\\lib\\site-packages (from aiohttp<4.0.0,>=3.8.6->llama-index-core<0.11.0,>=0.10.0->llama-index-packs-corrective-rag) (4.0.3)\n",
      "Requirement already satisfied: wrapt<2,>=1.10 in c:\\users\\thangta1\\anaconda3\\envs\\venv\\lib\\site-packages (from deprecated>=1.2.9.3->llama-index-core<0.11.0,>=0.10.0->llama-index-packs-corrective-rag) (1.16.0)\n",
      "Requirement already satisfied: pydantic>=1.10 in c:\\users\\thangta1\\anaconda3\\envs\\venv\\lib\\site-packages (from llamaindex-py-client<0.2.0,>=0.1.13->llama-index-core<0.11.0,>=0.10.0->llama-index-packs-corrective-rag) (2.6.2)\n",
      "Requirement already satisfied: anyio in c:\\users\\thangta1\\anaconda3\\envs\\venv\\lib\\site-packages (from httpx->llama-index-core<0.11.0,>=0.10.0->llama-index-packs-corrective-rag) (4.3.0)\n",
      "Requirement already satisfied: certifi in c:\\users\\thangta1\\anaconda3\\envs\\venv\\lib\\site-packages (from httpx->llama-index-core<0.11.0,>=0.10.0->llama-index-packs-corrective-rag) (2024.2.2)\n",
      "Requirement already satisfied: httpcore==1.* in c:\\users\\thangta1\\anaconda3\\envs\\venv\\lib\\site-packages (from httpx->llama-index-core<0.11.0,>=0.10.0->llama-index-packs-corrective-rag) (1.0.4)\n",
      "Requirement already satisfied: idna in c:\\users\\thangta1\\anaconda3\\envs\\venv\\lib\\site-packages (from httpx->llama-index-core<0.11.0,>=0.10.0->llama-index-packs-corrective-rag) (3.6)\n",
      "Requirement already satisfied: sniffio in c:\\users\\thangta1\\anaconda3\\envs\\venv\\lib\\site-packages (from httpx->llama-index-core<0.11.0,>=0.10.0->llama-index-packs-corrective-rag) (1.3.1)\n",
      "Requirement already satisfied: h11<0.15,>=0.13 in c:\\users\\thangta1\\anaconda3\\envs\\venv\\lib\\site-packages (from httpcore==1.*->httpx->llama-index-core<0.11.0,>=0.10.0->llama-index-packs-corrective-rag) (0.14.0)\n",
      "Requirement already satisfied: click in c:\\users\\thangta1\\anaconda3\\envs\\venv\\lib\\site-packages (from nltk<4.0.0,>=3.8.1->llama-index-core<0.11.0,>=0.10.0->llama-index-packs-corrective-rag) (8.1.7)\n",
      "Requirement already satisfied: joblib in c:\\users\\thangta1\\anaconda3\\envs\\venv\\lib\\site-packages (from nltk<4.0.0,>=3.8.1->llama-index-core<0.11.0,>=0.10.0->llama-index-packs-corrective-rag) (1.3.2)\n",
      "Requirement already satisfied: distro<2,>=1.7.0 in c:\\users\\thangta1\\anaconda3\\envs\\venv\\lib\\site-packages (from openai>=1.1.0->llama-index-core<0.11.0,>=0.10.0->llama-index-packs-corrective-rag) (1.9.0)\n",
      "Requirement already satisfied: charset-normalizer<4,>=2 in c:\\users\\thangta1\\anaconda3\\envs\\venv\\lib\\site-packages (from requests>=2.31.0->llama-index-core<0.11.0,>=0.10.0->llama-index-packs-corrective-rag) (3.3.2)\n",
      "Requirement already satisfied: urllib3<3,>=1.21.1 in c:\\users\\thangta1\\anaconda3\\envs\\venv\\lib\\site-packages (from requests>=2.31.0->llama-index-core<0.11.0,>=0.10.0->llama-index-packs-corrective-rag) (2.2.1)\n",
      "Requirement already satisfied: greenlet!=0.4.17 in c:\\users\\thangta1\\anaconda3\\envs\\venv\\lib\\site-packages (from SQLAlchemy>=1.4.49->SQLAlchemy[asyncio]>=1.4.49->llama-index-core<0.11.0,>=0.10.0->llama-index-packs-corrective-rag) (3.0.3)\n",
      "Requirement already satisfied: colorama in c:\\users\\thangta1\\anaconda3\\envs\\venv\\lib\\site-packages (from tqdm<5.0.0,>=4.66.1->llama-index-core<0.11.0,>=0.10.0->llama-index-packs-corrective-rag) (0.4.6)\n",
      "Requirement already satisfied: mypy-extensions>=0.3.0 in c:\\users\\thangta1\\anaconda3\\envs\\venv\\lib\\site-packages (from typing-inspect>=0.8.0->llama-index-core<0.11.0,>=0.10.0->llama-index-packs-corrective-rag) (1.0.0)\n",
      "Requirement already satisfied: marshmallow<4.0.0,>=3.18.0 in c:\\users\\thangta1\\anaconda3\\envs\\venv\\lib\\site-packages (from dataclasses-json->llama-index-core<0.11.0,>=0.10.0->llama-index-packs-corrective-rag) (3.20.2)\n",
      "Requirement already satisfied: python-dateutil>=2.8.2 in c:\\users\\thangta1\\anaconda3\\envs\\venv\\lib\\site-packages (from pandas->llama-index-core<0.11.0,>=0.10.0->llama-index-packs-corrective-rag) (2.8.2)\n",
      "Requirement already satisfied: pytz>=2020.1 in c:\\users\\thangta1\\anaconda3\\envs\\venv\\lib\\site-packages (from pandas->llama-index-core<0.11.0,>=0.10.0->llama-index-packs-corrective-rag) (2024.1)\n",
      "Requirement already satisfied: tzdata>=2022.7 in c:\\users\\thangta1\\anaconda3\\envs\\venv\\lib\\site-packages (from pandas->llama-index-core<0.11.0,>=0.10.0->llama-index-packs-corrective-rag) (2024.1)\n",
      "Requirement already satisfied: exceptiongroup>=1.0.2 in c:\\users\\thangta1\\anaconda3\\envs\\venv\\lib\\site-packages (from anyio->httpx->llama-index-core<0.11.0,>=0.10.0->llama-index-packs-corrective-rag) (1.2.0)\n",
      "Requirement already satisfied: packaging>=17.0 in c:\\users\\thangta1\\anaconda3\\envs\\venv\\lib\\site-packages (from marshmallow<4.0.0,>=3.18.0->dataclasses-json->llama-index-core<0.11.0,>=0.10.0->llama-index-packs-corrective-rag) (23.2)\n",
      "Requirement already satisfied: annotated-types>=0.4.0 in c:\\users\\thangta1\\anaconda3\\envs\\venv\\lib\\site-packages (from pydantic>=1.10->llamaindex-py-client<0.2.0,>=0.1.13->llama-index-core<0.11.0,>=0.10.0->llama-index-packs-corrective-rag) (0.6.0)\n",
      "Requirement already satisfied: pydantic-core==2.16.3 in c:\\users\\thangta1\\anaconda3\\envs\\venv\\lib\\site-packages (from pydantic>=1.10->llamaindex-py-client<0.2.0,>=0.1.13->llama-index-core<0.11.0,>=0.10.0->llama-index-packs-corrective-rag) (2.16.3)\n",
      "Requirement already satisfied: six>=1.5 in c:\\users\\thangta1\\anaconda3\\envs\\venv\\lib\\site-packages (from python-dateutil>=2.8.2->pandas->llama-index-core<0.11.0,>=0.10.0->llama-index-packs-corrective-rag) (1.16.0)\n",
      "Note: you may need to restart the kernel to use updated packages.\n",
      "Requirement already satisfied: llama-index-readers-file in c:\\users\\thangta1\\anaconda3\\envs\\venv\\lib\\site-packages (0.1.5)\n",
      "Requirement already satisfied: beautifulsoup4<5.0.0,>=4.12.3 in c:\\users\\thangta1\\anaconda3\\envs\\venv\\lib\\site-packages (from llama-index-readers-file) (4.12.3)\n",
      "Requirement already satisfied: bs4<0.0.3,>=0.0.2 in c:\\users\\thangta1\\anaconda3\\envs\\venv\\lib\\site-packages (from llama-index-readers-file) (0.0.2)\n",
      "Requirement already satisfied: llama-index-core<0.11.0,>=0.10.1 in c:\\users\\thangta1\\anaconda3\\envs\\venv\\lib\\site-packages (from llama-index-readers-file) (0.10.12)\n",
      "Requirement already satisfied: pymupdf<2.0.0,>=1.23.21 in c:\\users\\thangta1\\anaconda3\\envs\\venv\\lib\\site-packages (from llama-index-readers-file) (1.23.25)\n",
      "Requirement already satisfied: pypdf<5.0.0,>=4.0.1 in c:\\users\\thangta1\\anaconda3\\envs\\venv\\lib\\site-packages (from llama-index-readers-file) (4.0.2)\n",
      "Requirement already satisfied: soupsieve>1.2 in c:\\users\\thangta1\\anaconda3\\envs\\venv\\lib\\site-packages (from beautifulsoup4<5.0.0,>=4.12.3->llama-index-readers-file) (2.5)\n",
      "Requirement already satisfied: PyYAML>=6.0.1 in c:\\users\\thangta1\\anaconda3\\envs\\venv\\lib\\site-packages (from llama-index-core<0.11.0,>=0.10.1->llama-index-readers-file) (6.0.1)\n",
      "Requirement already satisfied: SQLAlchemy>=1.4.49 in c:\\users\\thangta1\\anaconda3\\envs\\venv\\lib\\site-packages (from SQLAlchemy[asyncio]>=1.4.49->llama-index-core<0.11.0,>=0.10.1->llama-index-readers-file) (2.0.27)\n",
      "Requirement already satisfied: aiohttp<4.0.0,>=3.8.6 in c:\\users\\thangta1\\anaconda3\\envs\\venv\\lib\\site-packages (from llama-index-core<0.11.0,>=0.10.1->llama-index-readers-file) (3.9.3)\n",
      "Requirement already satisfied: dataclasses-json in c:\\users\\thangta1\\anaconda3\\envs\\venv\\lib\\site-packages (from llama-index-core<0.11.0,>=0.10.1->llama-index-readers-file) (0.6.4)\n",
      "Requirement already satisfied: deprecated>=1.2.9.3 in c:\\users\\thangta1\\anaconda3\\envs\\venv\\lib\\site-packages (from llama-index-core<0.11.0,>=0.10.1->llama-index-readers-file) (1.2.14)\n",
      "Requirement already satisfied: dirtyjson<2.0.0,>=1.0.8 in c:\\users\\thangta1\\anaconda3\\envs\\venv\\lib\\site-packages (from llama-index-core<0.11.0,>=0.10.1->llama-index-readers-file) (1.0.8)\n",
      "Requirement already satisfied: fsspec>=2023.5.0 in c:\\users\\thangta1\\anaconda3\\envs\\venv\\lib\\site-packages (from llama-index-core<0.11.0,>=0.10.1->llama-index-readers-file) (2024.2.0)\n",
      "Requirement already satisfied: httpx in c:\\users\\thangta1\\anaconda3\\envs\\venv\\lib\\site-packages (from llama-index-core<0.11.0,>=0.10.1->llama-index-readers-file) (0.27.0)\n",
      "Requirement already satisfied: llamaindex-py-client<0.2.0,>=0.1.13 in c:\\users\\thangta1\\anaconda3\\envs\\venv\\lib\\site-packages (from llama-index-core<0.11.0,>=0.10.1->llama-index-readers-file) (0.1.13)\n",
      "Requirement already satisfied: nest-asyncio<2.0.0,>=1.5.8 in c:\\users\\thangta1\\anaconda3\\envs\\venv\\lib\\site-packages (from llama-index-core<0.11.0,>=0.10.1->llama-index-readers-file) (1.6.0)\n",
      "Requirement already satisfied: networkx>=3.0 in c:\\users\\thangta1\\anaconda3\\envs\\venv\\lib\\site-packages (from llama-index-core<0.11.0,>=0.10.1->llama-index-readers-file) (3.2.1)\n",
      "Requirement already satisfied: nltk<4.0.0,>=3.8.1 in c:\\users\\thangta1\\anaconda3\\envs\\venv\\lib\\site-packages (from llama-index-core<0.11.0,>=0.10.1->llama-index-readers-file) (3.8.1)\n",
      "Requirement already satisfied: numpy in c:\\users\\thangta1\\anaconda3\\envs\\venv\\lib\\site-packages (from llama-index-core<0.11.0,>=0.10.1->llama-index-readers-file) (1.26.4)\n",
      "Requirement already satisfied: openai>=1.1.0 in c:\\users\\thangta1\\anaconda3\\envs\\venv\\lib\\site-packages (from llama-index-core<0.11.0,>=0.10.1->llama-index-readers-file) (1.12.0)\n",
      "Requirement already satisfied: pandas in c:\\users\\thangta1\\anaconda3\\envs\\venv\\lib\\site-packages (from llama-index-core<0.11.0,>=0.10.1->llama-index-readers-file) (2.2.1)\n",
      "Requirement already satisfied: pillow>=9.0.0 in c:\\users\\thangta1\\anaconda3\\envs\\venv\\lib\\site-packages (from llama-index-core<0.11.0,>=0.10.1->llama-index-readers-file) (10.2.0)\n",
      "Requirement already satisfied: requests>=2.31.0 in c:\\users\\thangta1\\anaconda3\\envs\\venv\\lib\\site-packages (from llama-index-core<0.11.0,>=0.10.1->llama-index-readers-file) (2.31.0)\n",
      "Requirement already satisfied: tenacity<9.0.0,>=8.2.0 in c:\\users\\thangta1\\anaconda3\\envs\\venv\\lib\\site-packages (from llama-index-core<0.11.0,>=0.10.1->llama-index-readers-file) (8.2.3)\n",
      "Requirement already satisfied: tiktoken>=0.3.3 in c:\\users\\thangta1\\anaconda3\\envs\\venv\\lib\\site-packages (from llama-index-core<0.11.0,>=0.10.1->llama-index-readers-file) (0.5.2)\n",
      "Requirement already satisfied: tqdm<5.0.0,>=4.66.1 in c:\\users\\thangta1\\anaconda3\\envs\\venv\\lib\\site-packages (from llama-index-core<0.11.0,>=0.10.1->llama-index-readers-file) (4.66.2)\n",
      "Requirement already satisfied: typing-extensions>=4.5.0 in c:\\users\\thangta1\\anaconda3\\envs\\venv\\lib\\site-packages (from llama-index-core<0.11.0,>=0.10.1->llama-index-readers-file) (4.10.0)\n",
      "Requirement already satisfied: typing-inspect>=0.8.0 in c:\\users\\thangta1\\anaconda3\\envs\\venv\\lib\\site-packages (from llama-index-core<0.11.0,>=0.10.1->llama-index-readers-file) (0.9.0)\n",
      "Requirement already satisfied: PyMuPDFb==1.23.22 in c:\\users\\thangta1\\anaconda3\\envs\\venv\\lib\\site-packages (from pymupdf<2.0.0,>=1.23.21->llama-index-readers-file) (1.23.22)\n",
      "Requirement already satisfied: aiosignal>=1.1.2 in c:\\users\\thangta1\\anaconda3\\envs\\venv\\lib\\site-packages (from aiohttp<4.0.0,>=3.8.6->llama-index-core<0.11.0,>=0.10.1->llama-index-readers-file) (1.3.1)\n",
      "Requirement already satisfied: attrs>=17.3.0 in c:\\users\\thangta1\\anaconda3\\envs\\venv\\lib\\site-packages (from aiohttp<4.0.0,>=3.8.6->llama-index-core<0.11.0,>=0.10.1->llama-index-readers-file) (23.2.0)\n",
      "Requirement already satisfied: frozenlist>=1.1.1 in c:\\users\\thangta1\\anaconda3\\envs\\venv\\lib\\site-packages (from aiohttp<4.0.0,>=3.8.6->llama-index-core<0.11.0,>=0.10.1->llama-index-readers-file) (1.4.1)\n",
      "Requirement already satisfied: multidict<7.0,>=4.5 in c:\\users\\thangta1\\anaconda3\\envs\\venv\\lib\\site-packages (from aiohttp<4.0.0,>=3.8.6->llama-index-core<0.11.0,>=0.10.1->llama-index-readers-file) (6.0.5)\n",
      "Requirement already satisfied: yarl<2.0,>=1.0 in c:\\users\\thangta1\\anaconda3\\envs\\venv\\lib\\site-packages (from aiohttp<4.0.0,>=3.8.6->llama-index-core<0.11.0,>=0.10.1->llama-index-readers-file) (1.9.4)\n",
      "Requirement already satisfied: async-timeout<5.0,>=4.0 in c:\\users\\thangta1\\anaconda3\\envs\\venv\\lib\\site-packages (from aiohttp<4.0.0,>=3.8.6->llama-index-core<0.11.0,>=0.10.1->llama-index-readers-file) (4.0.3)\n",
      "Requirement already satisfied: wrapt<2,>=1.10 in c:\\users\\thangta1\\anaconda3\\envs\\venv\\lib\\site-packages (from deprecated>=1.2.9.3->llama-index-core<0.11.0,>=0.10.1->llama-index-readers-file) (1.16.0)\n",
      "Requirement already satisfied: pydantic>=1.10 in c:\\users\\thangta1\\anaconda3\\envs\\venv\\lib\\site-packages (from llamaindex-py-client<0.2.0,>=0.1.13->llama-index-core<0.11.0,>=0.10.1->llama-index-readers-file) (2.6.2)\n",
      "Requirement already satisfied: anyio in c:\\users\\thangta1\\anaconda3\\envs\\venv\\lib\\site-packages (from httpx->llama-index-core<0.11.0,>=0.10.1->llama-index-readers-file) (4.3.0)\n",
      "Requirement already satisfied: certifi in c:\\users\\thangta1\\anaconda3\\envs\\venv\\lib\\site-packages (from httpx->llama-index-core<0.11.0,>=0.10.1->llama-index-readers-file) (2024.2.2)\n",
      "Requirement already satisfied: httpcore==1.* in c:\\users\\thangta1\\anaconda3\\envs\\venv\\lib\\site-packages (from httpx->llama-index-core<0.11.0,>=0.10.1->llama-index-readers-file) (1.0.4)\n",
      "Requirement already satisfied: idna in c:\\users\\thangta1\\anaconda3\\envs\\venv\\lib\\site-packages (from httpx->llama-index-core<0.11.0,>=0.10.1->llama-index-readers-file) (3.6)\n",
      "Requirement already satisfied: sniffio in c:\\users\\thangta1\\anaconda3\\envs\\venv\\lib\\site-packages (from httpx->llama-index-core<0.11.0,>=0.10.1->llama-index-readers-file) (1.3.1)\n",
      "Requirement already satisfied: h11<0.15,>=0.13 in c:\\users\\thangta1\\anaconda3\\envs\\venv\\lib\\site-packages (from httpcore==1.*->httpx->llama-index-core<0.11.0,>=0.10.1->llama-index-readers-file) (0.14.0)\n",
      "Requirement already satisfied: click in c:\\users\\thangta1\\anaconda3\\envs\\venv\\lib\\site-packages (from nltk<4.0.0,>=3.8.1->llama-index-core<0.11.0,>=0.10.1->llama-index-readers-file) (8.1.7)\n",
      "Requirement already satisfied: joblib in c:\\users\\thangta1\\anaconda3\\envs\\venv\\lib\\site-packages (from nltk<4.0.0,>=3.8.1->llama-index-core<0.11.0,>=0.10.1->llama-index-readers-file) (1.3.2)\n",
      "Requirement already satisfied: regex>=2021.8.3 in c:\\users\\thangta1\\anaconda3\\envs\\venv\\lib\\site-packages (from nltk<4.0.0,>=3.8.1->llama-index-core<0.11.0,>=0.10.1->llama-index-readers-file) (2023.12.25)\n",
      "Requirement already satisfied: distro<2,>=1.7.0 in c:\\users\\thangta1\\anaconda3\\envs\\venv\\lib\\site-packages (from openai>=1.1.0->llama-index-core<0.11.0,>=0.10.1->llama-index-readers-file) (1.9.0)\n",
      "Requirement already satisfied: charset-normalizer<4,>=2 in c:\\users\\thangta1\\anaconda3\\envs\\venv\\lib\\site-packages (from requests>=2.31.0->llama-index-core<0.11.0,>=0.10.1->llama-index-readers-file) (3.3.2)\n",
      "Requirement already satisfied: urllib3<3,>=1.21.1 in c:\\users\\thangta1\\anaconda3\\envs\\venv\\lib\\site-packages (from requests>=2.31.0->llama-index-core<0.11.0,>=0.10.1->llama-index-readers-file) (2.2.1)\n",
      "Requirement already satisfied: greenlet!=0.4.17 in c:\\users\\thangta1\\anaconda3\\envs\\venv\\lib\\site-packages (from SQLAlchemy>=1.4.49->SQLAlchemy[asyncio]>=1.4.49->llama-index-core<0.11.0,>=0.10.1->llama-index-readers-file) (3.0.3)\n",
      "Requirement already satisfied: colorama in c:\\users\\thangta1\\anaconda3\\envs\\venv\\lib\\site-packages (from tqdm<5.0.0,>=4.66.1->llama-index-core<0.11.0,>=0.10.1->llama-index-readers-file) (0.4.6)\n",
      "Requirement already satisfied: mypy-extensions>=0.3.0 in c:\\users\\thangta1\\anaconda3\\envs\\venv\\lib\\site-packages (from typing-inspect>=0.8.0->llama-index-core<0.11.0,>=0.10.1->llama-index-readers-file) (1.0.0)\n",
      "Requirement already satisfied: marshmallow<4.0.0,>=3.18.0 in c:\\users\\thangta1\\anaconda3\\envs\\venv\\lib\\site-packages (from dataclasses-json->llama-index-core<0.11.0,>=0.10.1->llama-index-readers-file) (3.20.2)\n",
      "Requirement already satisfied: python-dateutil>=2.8.2 in c:\\users\\thangta1\\anaconda3\\envs\\venv\\lib\\site-packages (from pandas->llama-index-core<0.11.0,>=0.10.1->llama-index-readers-file) (2.8.2)\n",
      "Requirement already satisfied: pytz>=2020.1 in c:\\users\\thangta1\\anaconda3\\envs\\venv\\lib\\site-packages (from pandas->llama-index-core<0.11.0,>=0.10.1->llama-index-readers-file) (2024.1)\n",
      "Requirement already satisfied: tzdata>=2022.7 in c:\\users\\thangta1\\anaconda3\\envs\\venv\\lib\\site-packages (from pandas->llama-index-core<0.11.0,>=0.10.1->llama-index-readers-file) (2024.1)\n",
      "Requirement already satisfied: exceptiongroup>=1.0.2 in c:\\users\\thangta1\\anaconda3\\envs\\venv\\lib\\site-packages (from anyio->httpx->llama-index-core<0.11.0,>=0.10.1->llama-index-readers-file) (1.2.0)\n",
      "Requirement already satisfied: packaging>=17.0 in c:\\users\\thangta1\\anaconda3\\envs\\venv\\lib\\site-packages (from marshmallow<4.0.0,>=3.18.0->dataclasses-json->llama-index-core<0.11.0,>=0.10.1->llama-index-readers-file) (23.2)\n",
      "Requirement already satisfied: annotated-types>=0.4.0 in c:\\users\\thangta1\\anaconda3\\envs\\venv\\lib\\site-packages (from pydantic>=1.10->llamaindex-py-client<0.2.0,>=0.1.13->llama-index-core<0.11.0,>=0.10.1->llama-index-readers-file) (0.6.0)\n",
      "Requirement already satisfied: pydantic-core==2.16.3 in c:\\users\\thangta1\\anaconda3\\envs\\venv\\lib\\site-packages (from pydantic>=1.10->llamaindex-py-client<0.2.0,>=0.1.13->llama-index-core<0.11.0,>=0.10.1->llama-index-readers-file) (2.16.3)\n",
      "Requirement already satisfied: six>=1.5 in c:\\users\\thangta1\\anaconda3\\envs\\venv\\lib\\site-packages (from python-dateutil>=2.8.2->pandas->llama-index-core<0.11.0,>=0.10.1->llama-index-readers-file) (1.16.0)\n",
      "Note: you may need to restart the kernel to use updated packages.\n"
     ]
    }
   ],
   "source": [
    "%pip install llama-index-llms-openai llama-index-tools-tavily-research llama-index-embeddings-openai\n",
    "%pip install llama-index-packs-corrective-rag\n",
    "%pip install llama-index-readers-file"
   ]
  },
  {
   "cell_type": "code",
   "execution_count": 1,
   "metadata": {},
   "outputs": [],
   "source": [
    "import os\n",
    "\n",
    "tavily_ai_api_key = os.environ[\"TAVILY_API_KEY\"]\n",
    "\n",
    "# import nest_asyncio\n",
    "\n",
    "# nest_asyncio.apply()"
   ]
  },
  {
   "attachments": {},
   "cell_type": "markdown",
   "metadata": {},
   "source": [
    "## Download `Llama2` paper."
   ]
  },
  {
   "cell_type": "code",
   "execution_count": null,
   "metadata": {},
   "outputs": [
    {
     "name": "stdout",
     "output_type": "stream",
     "text": [
      "  % Total    % Received % Xferd  Average Speed   Time    Time     Time  Current\n",
      "                                 Dload  Upload   Total   Spent    Left  Speed\n",
      "100 13.0M  100 13.0M    0     0  7397k      0  0:00:01  0:00:01 --:--:-- 7415k\n"
     ]
    }
   ],
   "source": [
    "!mkdir -p 'data/'\n",
    "!curl 'https://arxiv.org/pdf/2307.09288.pdf' -o 'data/llama2.pdf'"
   ]
  },
  {
   "cell_type": "code",
   "execution_count": 2,
   "metadata": {},
   "outputs": [],
   "source": [
    "from llama_index.core import SimpleDirectoryReader\n",
    "\n",
    "documents = SimpleDirectoryReader(\"data\").load_data()"
   ]
  },
  {
   "attachments": {},
   "cell_type": "markdown",
   "metadata": {},
   "source": [
    "## Run the CorrectiveRAGPack"
   ]
  },
  {
   "cell_type": "code",
   "execution_count": 3,
   "metadata": {},
   "outputs": [],
   "source": [
    "from llama_index.packs.corrective_rag import CorrectiveRAGPack\n",
    "\n",
    "corrective_rag_pack = CorrectiveRAGPack(documents, tavily_ai_apikey=tavily_ai_api_key)"
   ]
  },
  {
   "cell_type": "markdown",
   "metadata": {},
   "source": [
    "## Test Queries"
   ]
  },
  {
   "cell_type": "code",
   "execution_count": 4,
   "metadata": {},
   "outputs": [
    {
     "data": {
      "text/markdown": [
       "The author, growing up, worked on writing short stories and programming. Initially, the author wrote short stories with minimal plot but focused on characters with strong emotions. Later on, the author started programming on an IBM 1401 using an early version of Fortran, where programs were typed on punch cards. The author also built a microcomputer kit and eventually convinced their father to buy a TRS-80, where they wrote simple games, a rocket height prediction program, and a word processor."
      ],
      "text/plain": [
       "<IPython.core.display.Markdown object>"
      ]
     },
     "metadata": {},
     "output_type": "display_data"
    }
   ],
   "source": [
    "from IPython.display import Markdown, display\n",
    "\n",
    "response = corrective_rag_pack.run(\"What does the author do growing up?\")\n",
    "display(Markdown(str(response)))"
   ]
  },
  {
   "cell_type": "code",
   "execution_count": 11,
   "metadata": {},
   "outputs": [
    {
     "data": {
      "text/markdown": [
       "Today's news includes updates on the hostage release and truce in Gaza, tensions between Israel's far-right and hostage families, a Brooklyn woman arrested for throwing hot coffee at a man in a Palestinian scarf, Michigan police making an arrest in the disappearance of a woman missing since 2021, and a mysterious dog respiratory illness possibly caused by a new bacterial infection."
      ],
      "text/plain": [
       "<IPython.core.display.Markdown object>"
      ]
     },
     "metadata": {},
     "output_type": "display_data"
    }
   ],
   "source": [
    "from IPython.display import Markdown, display\n",
    "\n",
    "response = corrective_rag_pack.run(\n",
    "    \"What is today's news?\"\n",
    ")\n",
    "display(Markdown(str(response)))"
   ]
  }
 ],
 "metadata": {
  "kernelspec": {
   "display_name": "venv",
   "language": "python",
   "name": "python3"
  },
  "language_info": {
   "codemirror_mode": {
    "name": "ipython",
    "version": 3
   },
   "file_extension": ".py",
   "mimetype": "text/x-python",
   "name": "python",
   "nbconvert_exporter": "python",
   "pygments_lexer": "ipython3",
   "version": "3.10.0"
  }
 },
 "nbformat": 4,
 "nbformat_minor": 2
}
